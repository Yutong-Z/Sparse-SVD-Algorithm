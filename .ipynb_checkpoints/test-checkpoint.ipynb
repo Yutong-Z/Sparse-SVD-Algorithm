{
 "cells": [
  {
   "cell_type": "code",
   "execution_count": 1,
   "metadata": {},
   "outputs": [
    {
     "name": "stdout",
     "output_type": "stream",
     "text": [
      "Collecting SSVD663\n",
      "  Downloading SSVD663-1.0-py3-none-any.whl (3.3 kB)\n",
      "Requirement already satisfied: pandas in /anaconda3/lib/python3.7/site-packages (from SSVD663) (1.0.3)\n",
      "Requirement already satisfied: numpy in /anaconda3/lib/python3.7/site-packages (from SSVD663) (1.18.2)\n",
      "Requirement already satisfied: pytz>=2017.2 in /anaconda3/lib/python3.7/site-packages (from pandas->SSVD663) (2019.3)\n",
      "Requirement already satisfied: python-dateutil>=2.6.1 in /anaconda3/lib/python3.7/site-packages (from pandas->SSVD663) (2.8.1)\n",
      "Requirement already satisfied: six>=1.5 in /anaconda3/lib/python3.7/site-packages (from python-dateutil>=2.6.1->pandas->SSVD663) (1.14.0)\n",
      "Installing collected packages: SSVD663\n",
      "Successfully installed SSVD663-1.0\n",
      "Note: you may need to restart the kernel to use updated packages.\n"
     ]
    }
   ],
   "source": [
    "pip install SSVD663"
   ]
  },
  {
   "cell_type": "code",
   "execution_count": 6,
   "metadata": {},
   "outputs": [],
   "source": [
    "import numpy as np\n",
    "import seaborn as sns\n",
    "from SSVD663 import SSVD"
   ]
  },
  {
   "cell_type": "code",
   "execution_count": 7,
   "metadata": {},
   "outputs": [
    {
     "data": {
      "text/plain": [
       "<matplotlib.axes._subplots.AxesSubplot at 0x12ad1a5f8>"
      ]
     },
     "execution_count": 7,
     "metadata": {},
     "output_type": "execute_result"
    },
    {
     "data": {
      "image/png": "[encoded data removed]",
      "text/plain": [
       "<Figure size 432x288 with 2 Axes>"
      ]
     },
     "metadata": {
      "needs_background": "light"
     },
     "output_type": "display_data"
    }
   ],
   "source": [
    "\n",
    "\n",
    "s = 50\n",
    "u_t = np.hstack((np.array([10, 9, 8, 7, 6, 5, 4, 3]), 2 * np.ones(17), np.zeros(75))).reshape((-1, 1))\n",
    "u = u_t / np.sqrt(np.sum(u_t ** 2))\n",
    "v_t = np.hstack((np.array([10, -10, 8, -8, 5, -5]), 3 * np.ones(5), -3 * np.ones(5), np.zeros(34))).reshape(-1, 1)\n",
    "v = v_t / np.sqrt(np.sum(v_t ** 2))\n",
    "X = s * u @ v.T\n",
    "m, n = X.shape\n",
    "sim_X = X + np.random.randn(m, n)\n",
    "\n",
    "u, s, v = SSVD(sim_X)\n",
    "\n",
    "sim_X_new = u @ s @ np.sort(np.ravel(v))[::-1].reshape(1,-1)\n",
    "sns.heatmap(sim_X_new, vmin=-1, vmax=1, cmap='seismic')"
   ]
  },
  {
   "cell_type": "code",
   "execution_count": null,
   "metadata": {},
   "outputs": [],
   "source": []
  }
 ],
 "metadata": {
  "kernelspec": {
   "display_name": "Python 3",
   "language": "python",
   "name": "python3"
  },
  "language_info": {
   "codemirror_mode": {
    "name": "ipython",
    "version": 3
   },
   "file_extension": ".py",
   "mimetype": "text/x-python",
   "name": "python",
   "nbconvert_exporter": "python",
   "pygments_lexer": "ipython3",
   "version": "3.7.4"
  }
 },
 "nbformat": 4,
 "nbformat_minor": 4
}
